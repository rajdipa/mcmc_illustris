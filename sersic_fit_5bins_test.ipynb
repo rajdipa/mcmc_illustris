{
 "cells": [
  {
   "cell_type": "code",
   "execution_count": 125,
   "metadata": {},
   "outputs": [
    {
     "name": "stdout",
     "output_type": "stream",
     "text": [
      "The autoreload extension is already loaded. To reload it, use:\n",
      "  %reload_ext autoreload\n"
     ]
    }
   ],
   "source": [
    "%matplotlib inline\n",
    "%load_ext autoreload\n",
    "%autoreload 2\n",
    "\n",
    "import os\n",
    "import copy \n",
    "\n",
    "import numpy as np \n",
    "\n",
    "import multiprocessing\n",
    "from multiprocessing import Pool\n",
    "from contextlib import closing\n",
    "\n",
    "import matplotlib.pyplot as plt\n",
    "from matplotlib import rcParams\n",
    "from matplotlib.gridspec import GridSpec\n",
    "\n",
    "# Put the fit_sersic.py, parameters.py, and priors.py files in the same folder\n",
    "from fit_sersic import Sersic, display_model_1d\n",
    "from fit_sersic import config_params, prof_curvefit, update_params \n",
    "from fit_sersic import emcee_fit_one_sersic, ln_probability, visual_emcee\n",
    "\n",
    "# Install emcee sampling tool: `pip install --upgrade emcee`\n",
    "# To visualize the result, also need `corner`: `pip install --upgrade corner`\n",
    "rcParams.update({'font.size': 25})"
   ]
  },
  {
   "cell_type": "code",
   "execution_count": 126,
   "metadata": {},
   "outputs": [],
   "source": [
    "import corner"
   ]
  },
  {
   "cell_type": "code",
   "execution_count": 127,
   "metadata": {},
   "outputs": [],
   "source": [
    "from astropy.modeling import models, fitting\n",
    "import matplotlib.colors as colors\n",
    "import matplotlib.cm as cmx\n",
    "from pylab import figure, text, scatter, show\n",
    "from math import factorial\n",
    "import h5py"
   ]
  },
  {
   "cell_type": "code",
   "execution_count": 128,
   "metadata": {},
   "outputs": [],
   "source": [
    "all_profs = np.load('/Users/RAJ/2019_paper/paper_figures/fitting_files/summary_median.npy')\n",
    "\n",
    "rad_kpc = all_profs['rad_kpc']"
   ]
  },
  {
   "cell_type": "code",
   "execution_count": 129,
   "metadata": {},
   "outputs": [],
   "source": [
    "# n_walker should at least > n_dim ** 2\n",
    "n_walkers = 128\n",
    "n_burnin, n_samples = 2000, 500\n",
    "\n",
    "# You might want to take advantage of the multiple processors you have\n",
    "n_jobs = multiprocessing.cpu_count()"
   ]
  },
  {
   "cell_type": "code",
   "execution_count": 130,
   "metadata": {},
   "outputs": [
    {
     "name": "stdout",
     "output_type": "stream",
     "text": [
      "Best-fit Sersic parameters from curvefit: [ 2.99484641 86.48443493 11.08635145]\n",
      "Error of Sersic parameters from curvefit: [ 0.18310359 10.0738146   0.63477254]\n",
      "# Running burn-in step...\n"
     ]
    },
    {
     "name": "stderr",
     "output_type": "stream",
     "text": [
      "100%|██████████| 2000/2000 [04:07<00:00,  8.07it/s]\n"
     ]
    },
    {
     "name": "stdout",
     "output_type": "stream",
     "text": [
      "#------------------------------------------------------\n",
      "#  Mean acceptance fraction 0.021437500000000005\n",
      "#------------------------------------------------------\n",
      "#  Best ln(Probability):   -17.06265\n",
      "[ 2.98804947 86.46975602 11.0921717 ]\n",
      "#------------------------------------------------------\n",
      "#  Best parameters (mean):\n",
      "[ 3.03888141 89.42613007 10.96081475]\n",
      "#------------------------------------------------------\n",
      "(3.0013297140312067, 0.2606142624978607, 0.2556445359640729)\n",
      "(87.55622427483735, 15.01738608946195, 13.873933219613903)\n",
      "(11.05179779985531, 1.046632042507996, 0.860827385551012)\n",
      "#------------------------------------------------------\n",
      "# Running final sampling step...\n"
     ]
    },
    {
     "name": "stderr",
     "output_type": "stream",
     "text": [
      "100%|██████████| 500/500 [03:24<00:00,  2.45it/s]\n"
     ]
    },
    {
     "name": "stdout",
     "output_type": "stream",
     "text": [
      "#------------------------------------------------------\n",
      "#  Mean acceptance fraction 0.384453125\n",
      "#------------------------------------------------------\n",
      "#  Best ln(Probability):   -17.06178\n",
      "[ 2.99521939 86.89989052 11.06907627]\n",
      "#------------------------------------------------------\n",
      "#  Best parameters (mean):\n",
      "[ 3.06107474 89.97012853 10.91612303]\n",
      "#------------------------------------------------------\n",
      "(3.0395280248619354, 0.22983521780589378, 0.20087093812891643)\n",
      "(88.61465192701795, 12.813878200601522, 10.489072948770698)\n",
      "(10.94297276879878, 0.6904403941684176, 0.7202509929755045)\n",
      "#------------------------------------------------------\n"
     ]
    }
   ],
   "source": [
    "with closing(Pool(processes=n_jobs)) as pool:\n",
    "    bin_1_ins, burnin = emcee_fit_one_sersic(\n",
    "        rad_kpc, all_profs['bin_1_prof_ins'], all_profs['bin_1_err_ins'], \n",
    "        pool=pool, n_walkers=n_walkers, n_burnin=n_burnin, n_samples=n_samples)\n",
    "    \n",
    "prof_samples_1_ins = [\n",
    "    Sersic(rad_kpc, pos[0], pos[1], pos[2]) for \n",
    "    pos in bin_1_ins['chains'][:, -20:, :].reshape([-1, 3])]"
   ]
  },
  {
   "cell_type": "code",
   "execution_count": 131,
   "metadata": {},
   "outputs": [
    {
     "name": "stdout",
     "output_type": "stream",
     "text": [
      "Best-fit Sersic parameters from curvefit: [ 3.3944366  46.56213763 12.89266885]\n",
      "Error of Sersic parameters from curvefit: [0.15103995 4.7367548  0.57659675]\n",
      "# Running burn-in step...\n"
     ]
    },
    {
     "name": "stderr",
     "output_type": "stream",
     "text": [
      "100%|██████████| 2000/2000 [04:14<00:00,  7.86it/s]\n"
     ]
    },
    {
     "name": "stdout",
     "output_type": "stream",
     "text": [
      "#------------------------------------------------------\n",
      "#  Mean acceptance fraction 0.030632812500000002\n",
      "#------------------------------------------------------\n",
      "#  Best ln(Probability):   -12.14121\n",
      "[ 3.39856749 46.33622621 12.91652982]\n",
      "#------------------------------------------------------\n",
      "#  Best parameters (mean):\n",
      "[ 3.45537954 48.70398589 12.7447081 ]\n",
      "#------------------------------------------------------\n",
      "(3.4331495635704123, 0.3052208417978499, 0.28009926051851375)\n",
      "(47.496271603158505, 10.017258393103198, 8.606438954575673)\n",
      "(12.794117819898142, 1.1852203234355159, 1.0491840300692115)\n",
      "#------------------------------------------------------\n",
      "# Running final sampling step...\n"
     ]
    },
    {
     "name": "stderr",
     "output_type": "stream",
     "text": [
      "100%|██████████| 500/500 [02:55<00:00,  2.85it/s]\n"
     ]
    },
    {
     "name": "stdout",
     "output_type": "stream",
     "text": [
      "#------------------------------------------------------\n",
      "#  Mean acceptance fraction 0.35259375000000004\n",
      "#------------------------------------------------------\n",
      "#  Best ln(Probability):   -12.13841\n",
      "[ 3.39605786 46.77469748 12.87324368]\n",
      "#------------------------------------------------------\n",
      "#  Best parameters (mean):\n",
      "[ 3.46843419 48.67922549 12.73564925]\n",
      "#------------------------------------------------------\n",
      "(3.4499453988049975, 0.29776009013678983, 0.2776959940167725)\n",
      "(47.98555439938905, 9.69110612263124, 8.325395605456855)\n",
      "(12.703307062501642, 1.1215374796648039, 0.9990062600630711)\n",
      "#------------------------------------------------------\n"
     ]
    }
   ],
   "source": [
    "with closing(Pool(processes=n_jobs)) as pool:\n",
    "    bin_2_ins, burnin = emcee_fit_one_sersic(\n",
    "        rad_kpc, all_profs['bin_2_prof_ins'], all_profs['bin_2_err_ins'], \n",
    "        pool=pool, n_walkers=n_walkers, n_burnin=n_burnin, n_samples=n_samples)\n",
    "    \n",
    "prof_samples_2_ins = [\n",
    "    Sersic(rad_kpc, pos[0], pos[1], pos[2]) for \n",
    "    pos in bin_2_ins['chains'][:, -20:, :].reshape([-1, 3])]"
   ]
  },
  {
   "cell_type": "code",
   "execution_count": 132,
   "metadata": {},
   "outputs": [
    {
     "name": "stdout",
     "output_type": "stream",
     "text": [
      "Best-fit Sersic parameters from curvefit: [ 4.3159477  35.64453786 13.44427409]\n",
      "Error of Sersic parameters from curvefit: [0.41504766 8.45644606 1.41655944]\n",
      "# Running burn-in step...\n"
     ]
    },
    {
     "name": "stderr",
     "output_type": "stream",
     "text": [
      "100%|██████████| 2000/2000 [04:25<00:00,  7.55it/s]\n"
     ]
    },
    {
     "name": "stdout",
     "output_type": "stream",
     "text": [
      "#------------------------------------------------------\n",
      "#  Mean acceptance fraction 0.01799609375\n",
      "#------------------------------------------------------\n",
      "#  Best ln(Probability):   -16.62616\n",
      "[ 4.31982297 35.64551414 13.43911562]\n",
      "#------------------------------------------------------\n",
      "#  Best parameters (mean):\n",
      "[ 4.68150584 43.92409255 12.59107543]\n",
      "#------------------------------------------------------\n",
      "(4.459043255482748, 0.76320812944748, 0.6342418543305293)\n",
      "(38.14778164095028, 17.504040216474607, 12.20757361411182)\n",
      "(13.072092974187328, 2.529543885075121, 2.0825886868524393)\n",
      "#------------------------------------------------------\n",
      "# Running final sampling step...\n"
     ]
    },
    {
     "name": "stderr",
     "output_type": "stream",
     "text": [
      "100%|██████████| 500/500 [04:21<00:00,  1.91it/s]\n"
     ]
    },
    {
     "name": "stdout",
     "output_type": "stream",
     "text": [
      "#------------------------------------------------------\n",
      "#  Mean acceptance fraction 0.27546875\n",
      "#------------------------------------------------------\n",
      "#  Best ln(Probability):   -16.62695\n",
      "[ 4.33257517 35.96306516 13.39243256]\n",
      "#------------------------------------------------------\n",
      "#  Best parameters (mean):\n",
      "[ 4.60428302 41.12596386 12.93457281]\n",
      "#------------------------------------------------------\n",
      "(4.549670322462431, 0.6435496469767221, 0.5428178954565963)\n",
      "(39.46879783494047, 14.675358665883742, 10.442489273847897)\n",
      "(12.796091474294078, 1.835843055505899, 1.7297222649470143)\n",
      "#------------------------------------------------------\n"
     ]
    }
   ],
   "source": [
    "with closing(Pool(processes=n_jobs)) as pool:\n",
    "    bin_3_ins, burnin = emcee_fit_one_sersic(\n",
    "        rad_kpc, all_profs['bin_3_prof_ins'], all_profs['bin_3_err_ins'], \n",
    "        pool=pool, n_walkers=n_walkers, n_burnin=n_burnin, n_samples=n_samples)\n",
    "    \n",
    "prof_samples_3_ins = [\n",
    "    Sersic(rad_kpc, pos[0], pos[1], pos[2]) for \n",
    "    pos in bin_3_ins['chains'][:, -20:, :].reshape([-1, 3])]"
   ]
  },
  {
   "cell_type": "code",
   "execution_count": null,
   "metadata": {},
   "outputs": [],
   "source": []
  },
  {
   "cell_type": "code",
   "execution_count": 133,
   "metadata": {},
   "outputs": [
    {
     "name": "stdout",
     "output_type": "stream",
     "text": [
      "Best-fit Sersic parameters from curvefit: [ 3.08502236 19.82575383 17.8928843 ]\n",
      "Error of Sersic parameters from curvefit: [0.16728383 1.11454333 0.50846095]\n",
      "# Running burn-in step...\n"
     ]
    },
    {
     "name": "stderr",
     "output_type": "stream",
     "text": [
      "100%|██████████| 2000/2000 [10:48<00:00,  3.09it/s]\n"
     ]
    },
    {
     "name": "stdout",
     "output_type": "stream",
     "text": [
      "#------------------------------------------------------\n",
      "#  Mean acceptance fraction 0.16162109375\n",
      "#------------------------------------------------------\n",
      "#  Best ln(Probability):   -10.29740\n",
      "[ 3.07960859 19.80729518 17.90715443]\n",
      "#------------------------------------------------------\n",
      "#  Best parameters (mean):\n",
      "[ 3.16767008 20.06987671 17.76949431]\n",
      "#------------------------------------------------------\n",
      "(3.1452706582623637, 0.3158814066959166, 0.2688597517512079)\n",
      "(19.988548250703982, 2.063576852773025, 1.855446666925534)\n",
      "(17.774565594177698, 0.8788125449103106, 0.8821745171923183)\n",
      "#------------------------------------------------------\n",
      "# Running final sampling step...\n"
     ]
    },
    {
     "name": "stderr",
     "output_type": "stream",
     "text": [
      "100%|██████████| 500/500 [03:37<00:00,  2.30it/s]\n"
     ]
    },
    {
     "name": "stdout",
     "output_type": "stream",
     "text": [
      "#------------------------------------------------------\n",
      "#  Mean acceptance fraction 0.39506250000000004\n",
      "#------------------------------------------------------\n",
      "#  Best ln(Probability):   -10.29876\n",
      "[ 3.07678047 19.77083906 17.92977923]\n",
      "#------------------------------------------------------\n",
      "#  Best parameters (mean):\n",
      "[ 3.15889687 20.06666028 17.77438837]\n",
      "#------------------------------------------------------\n",
      "(3.1605077863802142, 0.3226501214416402, 0.2875410266558456)\n",
      "(20.049504500230366, 2.075120197085699, 1.8962177626778356)\n",
      "(17.731232627085554, 0.8913398148746516, 0.8776060398791081)\n",
      "#------------------------------------------------------\n"
     ]
    }
   ],
   "source": [
    "with closing(Pool(processes=n_jobs)) as pool:\n",
    "    bin_4_ins, burnin = emcee_fit_one_sersic(\n",
    "        rad_kpc, all_profs['bin_4_prof_ins'], all_profs['bin_4_err_ins'], \n",
    "        pool=pool, n_walkers=n_walkers, n_burnin=n_burnin, n_samples=n_samples)\n",
    "    \n",
    "prof_samples_4_ins = [\n",
    "    Sersic(rad_kpc, pos[0], pos[1], pos[2]) for \n",
    "    pos in bin_4_ins['chains'][:, -20:, :].reshape([-1, 3])]"
   ]
  },
  {
   "cell_type": "code",
   "execution_count": 134,
   "metadata": {},
   "outputs": [
    {
     "name": "stdout",
     "output_type": "stream",
     "text": [
      "Best-fit Sersic parameters from curvefit: [ 6.08367369 22.60347884 15.25495848]\n",
      "Error of Sersic parameters from curvefit: [0.63763661 3.60090297 1.18769408]\n",
      "# Running burn-in step...\n"
     ]
    },
    {
     "name": "stderr",
     "output_type": "stream",
     "text": [
      "100%|██████████| 2000/2000 [05:15<00:00,  6.33it/s]\n"
     ]
    },
    {
     "name": "stdout",
     "output_type": "stream",
     "text": [
      "#------------------------------------------------------\n",
      "#  Mean acceptance fraction 0.0348359375\n",
      "#------------------------------------------------------\n",
      "#  Best ln(Probability):   -13.14396\n",
      "[ 6.06622233 22.26123775 15.35098755]\n",
      "#------------------------------------------------------\n",
      "#  Best parameters (mean):\n",
      "[ 6.73211932 25.1423104  14.83920068]\n",
      "#------------------------------------------------------\n",
      "(6.579734033477166, 1.4445228685737348, 1.3015662956326404)\n",
      "(23.658254961726364, 8.916511494814642, 7.286073771460934)\n",
      "(14.830440106470578, 2.8364801709139247, 2.1248873014534535)\n",
      "#------------------------------------------------------\n",
      "# Running final sampling step...\n"
     ]
    },
    {
     "name": "stderr",
     "output_type": "stream",
     "text": [
      "100%|██████████| 500/500 [02:58<00:00,  2.80it/s]\n"
     ]
    },
    {
     "name": "stdout",
     "output_type": "stream",
     "text": [
      "#------------------------------------------------------\n",
      "#  Mean acceptance fraction 0.299140625\n",
      "#------------------------------------------------------\n",
      "#  Best ln(Probability):   -13.14404\n",
      "[ 6.16637638 22.84825434 15.15375556]\n",
      "#------------------------------------------------------\n",
      "#  Best parameters (mean):\n",
      "[ 6.58674279 25.6986573  14.71560599]\n",
      "#------------------------------------------------------\n",
      "(6.648859846255393, 1.396609861116774, 1.2163421745065435)\n",
      "(24.34312510427567, 8.281845697619843, 6.385529622110369)\n",
      "(14.639843303287293, 2.2708038103607144, 1.945331985801019)\n",
      "#------------------------------------------------------\n"
     ]
    }
   ],
   "source": [
    "with closing(Pool(processes=n_jobs)) as pool:\n",
    "    bin_5_ins, burnin = emcee_fit_one_sersic(\n",
    "        rad_kpc, all_profs['bin_5_prof_ins'], all_profs['bin_5_err_ins'], \n",
    "        pool=pool, n_walkers=n_walkers, n_burnin=n_burnin, n_samples=n_samples)\n",
    "    \n",
    "prof_samples_5_ins = [\n",
    "    Sersic(rad_kpc, pos[0], pos[1], pos[2]) for \n",
    "    pos in bin_5_ins['chains'][:, -20:, :].reshape([-1, 3])]"
   ]
  },
  {
   "cell_type": "code",
   "execution_count": 135,
   "metadata": {},
   "outputs": [
    {
     "name": "stdout",
     "output_type": "stream",
     "text": [
      "Best-fit Sersic parameters from curvefit: [ 4.67200279 43.93139204 12.19812063]\n",
      "Error of Sersic parameters from curvefit: [0.18636989 3.32703795 0.4448177 ]\n",
      "# Running burn-in step...\n"
     ]
    },
    {
     "name": "stderr",
     "output_type": "stream",
     "text": [
      "100%|██████████| 2000/2000 [04:31<00:00,  7.35it/s]\n"
     ]
    },
    {
     "name": "stdout",
     "output_type": "stream",
     "text": [
      "#------------------------------------------------------\n",
      "#  Mean acceptance fraction 0.039859375\n",
      "#------------------------------------------------------\n",
      "#  Best ln(Probability):   -10.34232\n",
      "[ 4.67033401 43.79179591 12.21008158]\n",
      "#------------------------------------------------------\n",
      "#  Best parameters (mean):\n",
      "[ 4.75049879 45.11323624 12.11706857]\n",
      "#------------------------------------------------------\n",
      "(4.725845763383878, 0.42537139558768633, 0.4229490854958211)\n",
      "(44.697679172311375, 7.655492179364856, 7.371960113876689)\n",
      "(12.08967151611945, 1.1063575271787744, 0.8775992090523701)\n",
      "#------------------------------------------------------\n",
      "# Running final sampling step...\n"
     ]
    },
    {
     "name": "stderr",
     "output_type": "stream",
     "text": [
      "100%|██████████| 500/500 [02:59<00:00,  2.79it/s]\n"
     ]
    },
    {
     "name": "stdout",
     "output_type": "stream",
     "text": [
      "#------------------------------------------------------\n",
      "#  Mean acceptance fraction 0.350375\n",
      "#------------------------------------------------------\n",
      "#  Best ln(Probability):   -10.34176\n",
      "[ 4.67701864 44.0018805  12.19146135]\n",
      "#------------------------------------------------------\n",
      "#  Best parameters (mean):\n",
      "[ 4.74310052 45.00611669 12.14258554]\n",
      "#------------------------------------------------------\n",
      "(4.752503485950844, 0.416126126684925, 0.4167949021990802)\n",
      "(45.224077084790174, 7.661429945029646, 7.104273678670573)\n",
      "(12.015034634814713, 1.0275293079393215, 0.8682180012676302)\n",
      "#------------------------------------------------------\n"
     ]
    }
   ],
   "source": [
    "with closing(Pool(processes=n_jobs)) as pool:\n",
    "    bin_1_exs, burnin = emcee_fit_one_sersic(\n",
    "        rad_kpc, all_profs['bin_1_prof_exs'], all_profs['bin_1_err_exs'], \n",
    "        pool=pool, n_walkers=n_walkers, n_burnin=n_burnin, n_samples=n_samples)\n",
    "    \n",
    "prof_samples_1_exs = [\n",
    "    Sersic(rad_kpc, pos[0], pos[1], pos[2]) for \n",
    "    pos in bin_1_exs['chains'][:, -20:, :].reshape([-1, 3])]"
   ]
  },
  {
   "cell_type": "code",
   "execution_count": 136,
   "metadata": {},
   "outputs": [
    {
     "name": "stdout",
     "output_type": "stream",
     "text": [
      "Best-fit Sersic parameters from curvefit: [ 5.54267755 23.113129   15.10800476]\n",
      "Error of Sersic parameters from curvefit: [0.20098758 1.12865609 0.36395063]\n",
      "# Running burn-in step...\n"
     ]
    },
    {
     "name": "stderr",
     "output_type": "stream",
     "text": [
      "100%|██████████| 2000/2000 [06:31<00:00,  5.11it/s]\n"
     ]
    },
    {
     "name": "stdout",
     "output_type": "stream",
     "text": [
      "#------------------------------------------------------\n",
      "#  Mean acceptance fraction 0.10876953125000001\n",
      "#------------------------------------------------------\n",
      "#  Best ln(Probability):    -8.30850\n",
      "[ 5.52448271 23.1028965  15.11600106]\n",
      "#------------------------------------------------------\n",
      "#  Best parameters (mean):\n",
      "[ 5.6146262  23.44827898 15.0535252 ]\n",
      "#------------------------------------------------------\n",
      "(5.6043983153663, 0.4918418017646413, 0.4967530261242832)\n",
      "(23.27385293720562, 2.951844410490402, 2.8433828574675033)\n",
      "(15.052676036884709, 0.9869637976015859, 0.8404341944508182)\n",
      "#------------------------------------------------------\n",
      "# Running final sampling step...\n"
     ]
    },
    {
     "name": "stderr",
     "output_type": "stream",
     "text": [
      "100%|██████████| 500/500 [04:09<00:00,  2.00it/s]\n"
     ]
    },
    {
     "name": "stdout",
     "output_type": "stream",
     "text": [
      "#------------------------------------------------------\n",
      "#  Mean acceptance fraction 0.35503125\n",
      "#------------------------------------------------------\n",
      "#  Best ln(Probability):    -8.30825\n",
      "[ 5.54514618 23.21420937 15.08023283]\n",
      "#------------------------------------------------------\n",
      "#  Best parameters (mean):\n",
      "[ 5.62716454 23.44118388 15.06622352]\n",
      "#------------------------------------------------------\n",
      "(5.598259048929499, 0.522062969639217, 0.4966030043145464)\n",
      "(23.232809669868345, 2.986832558882721, 2.8157668640668945)\n",
      "(15.05538161699009, 0.9723557741483724, 0.8410917665486952)\n",
      "#------------------------------------------------------\n"
     ]
    }
   ],
   "source": [
    "with closing(Pool(processes=n_jobs)) as pool:\n",
    "    bin_2_exs, burnin = emcee_fit_one_sersic(\n",
    "        rad_kpc, all_profs['bin_2_prof_exs'], all_profs['bin_2_err_exs'], \n",
    "        pool=pool, n_walkers=n_walkers, n_burnin=n_burnin, n_samples=n_samples)\n",
    "    \n",
    "prof_samples_2_exs = [\n",
    "    Sersic(rad_kpc, pos[0], pos[1], pos[2]) for \n",
    "    pos in bin_2_exs['chains'][:, -20:, :].reshape([-1, 3])]"
   ]
  },
  {
   "cell_type": "code",
   "execution_count": 137,
   "metadata": {},
   "outputs": [
    {
     "name": "stdout",
     "output_type": "stream",
     "text": [
      "Best-fit Sersic parameters from curvefit: [ 4.46919852 28.2844173  14.51679728]\n",
      "Error of Sersic parameters from curvefit: [0.28512017 2.84221771 0.70431498]\n",
      "# Running burn-in step...\n"
     ]
    },
    {
     "name": "stderr",
     "output_type": "stream",
     "text": [
      "100%|██████████| 2000/2000 [06:34<00:00,  5.06it/s]\n"
     ]
    },
    {
     "name": "stdout",
     "output_type": "stream",
     "text": [
      "#------------------------------------------------------\n",
      "#  Mean acceptance fraction 0.05299218750000001\n",
      "#------------------------------------------------------\n",
      "#  Best ln(Probability):   -12.04479\n",
      "[ 4.50013994 28.60209248 14.43732154]\n",
      "#------------------------------------------------------\n",
      "#  Best parameters (mean):\n",
      "[ 4.6978453  30.56432336 14.09250726]\n",
      "#------------------------------------------------------\n",
      "(4.613476912716645, 0.55343066623157, 0.5059684217862044)\n",
      "(29.5391061023468, 6.191146620200435, 5.0403745369150705)\n",
      "(14.203749718520873, 1.3405039870540474, 1.2705289353146298)\n",
      "#------------------------------------------------------\n",
      "# Running final sampling step...\n"
     ]
    },
    {
     "name": "stderr",
     "output_type": "stream",
     "text": [
      "100%|██████████| 500/500 [03:45<00:00,  2.21it/s]\n"
     ]
    },
    {
     "name": "stdout",
     "output_type": "stream",
     "text": [
      "#------------------------------------------------------\n",
      "#  Mean acceptance fraction 0.33999999999999997\n",
      "#------------------------------------------------------\n",
      "#  Best ln(Probability):   -12.04357\n",
      "[ 4.47498981 28.27212691 14.51842736]\n",
      "#------------------------------------------------------\n",
      "#  Best parameters (mean):\n",
      "[ 4.6700968  30.31601308 14.15435219]\n",
      "#------------------------------------------------------\n",
      "(4.626113175811202, 0.542186210017654, 0.48283748493204826)\n",
      "(29.654292656416068, 6.057351212594199, 4.831187567713158)\n",
      "(14.156777041551942, 1.2788312171901222, 1.2233286629769413)\n",
      "#------------------------------------------------------\n"
     ]
    }
   ],
   "source": [
    "with closing(Pool(processes=n_jobs)) as pool:\n",
    "    bin_3_exs, burnin = emcee_fit_one_sersic(\n",
    "        rad_kpc, all_profs['bin_3_prof_exs'], all_profs['bin_3_err_exs'], \n",
    "        pool=pool, n_walkers=n_walkers, n_burnin=n_burnin, n_samples=n_samples)\n",
    "    \n",
    "prof_samples_3_exs = [\n",
    "    Sersic(rad_kpc, pos[0], pos[1], pos[2]) for \n",
    "    pos in bin_3_exs['chains'][:, -20:, :].reshape([-1, 3])]"
   ]
  },
  {
   "cell_type": "code",
   "execution_count": 138,
   "metadata": {},
   "outputs": [
    {
     "name": "stdout",
     "output_type": "stream",
     "text": [
      "Best-fit Sersic parameters from curvefit: [ 5.41884398 14.61271873 18.49973002]\n",
      "Error of Sersic parameters from curvefit: [0.24217253 0.69991849 0.43481461]\n",
      "# Running burn-in step...\n"
     ]
    },
    {
     "name": "stderr",
     "output_type": "stream",
     "text": [
      "100%|██████████| 2000/2000 [10:15<00:00,  3.25it/s]\n"
     ]
    },
    {
     "name": "stdout",
     "output_type": "stream",
     "text": [
      "#------------------------------------------------------\n",
      "#  Mean acceptance fraction 0.1761015625\n",
      "#------------------------------------------------------\n",
      "#  Best ln(Probability):    -8.54209\n",
      "[ 5.42291117 14.63802407 18.4893845 ]\n",
      "#------------------------------------------------------\n",
      "#  Best parameters (mean):\n",
      "[ 5.53092927 14.77457752 18.43577242]\n",
      "#------------------------------------------------------\n",
      "(5.511138177239667, 0.5346069101410995, 0.5009664310356143)\n",
      "(14.78210899822407, 1.6901366244070548, 1.5441746556880585)\n",
      "(18.37807016004258, 1.0186441436960436, 0.9481156224782445)\n",
      "#------------------------------------------------------\n",
      "# Running final sampling step...\n"
     ]
    },
    {
     "name": "stderr",
     "output_type": "stream",
     "text": [
      "100%|██████████| 500/500 [03:27<00:00,  2.41it/s]\n"
     ]
    },
    {
     "name": "stdout",
     "output_type": "stream",
     "text": [
      "#------------------------------------------------------\n",
      "#  Mean acceptance fraction 0.36707812500000003\n",
      "#------------------------------------------------------\n",
      "#  Best ln(Probability):    -8.54317\n",
      "[ 5.42900328 14.65188503 18.46718338]\n",
      "#------------------------------------------------------\n",
      "#  Best parameters (mean):\n",
      "[ 5.59016024 14.86964601 18.38496101]\n",
      "#------------------------------------------------------\n",
      "(5.535541249439796, 0.5710211428162673, 0.5244786943849471)\n",
      "(14.765606403850505, 1.691908418732499, 1.593530356014833)\n",
      "(18.376160961008523, 1.08135002818711, 0.9667530761931467)\n",
      "#------------------------------------------------------\n"
     ]
    }
   ],
   "source": [
    "with closing(Pool(processes=n_jobs)) as pool:\n",
    "    bin_4_exs, burnin = emcee_fit_one_sersic(\n",
    "        rad_kpc, all_profs['bin_4_prof_exs'], all_profs['bin_4_err_exs'], \n",
    "        pool=pool, n_walkers=n_walkers, n_burnin=n_burnin, n_samples=n_samples)\n",
    "    \n",
    "prof_samples_4_exs = [\n",
    "    Sersic(rad_kpc, pos[0], pos[1], pos[2]) for \n",
    "    pos in bin_4_exs['chains'][:, -20:, :].reshape([-1, 3])]"
   ]
  },
  {
   "cell_type": "code",
   "execution_count": null,
   "metadata": {},
   "outputs": [],
   "source": []
  },
  {
   "cell_type": "code",
   "execution_count": 139,
   "metadata": {},
   "outputs": [
    {
     "name": "stdout",
     "output_type": "stream",
     "text": [
      "Best-fit Sersic parameters from curvefit: [ 5.94080606  7.26964328 24.27781091]\n",
      "Error of Sersic parameters from curvefit: [0.7014889  0.71145782 1.10089104]\n",
      "# Running burn-in step...\n"
     ]
    },
    {
     "name": "stderr",
     "output_type": "stream",
     "text": [
      "100%|██████████| 2000/2000 [06:16<00:00,  5.31it/s]\n"
     ]
    },
    {
     "name": "stdout",
     "output_type": "stream",
     "text": [
      "#------------------------------------------------------\n",
      "#  Mean acceptance fraction 0.08501171875\n",
      "#------------------------------------------------------\n",
      "#  Best ln(Probability):    -9.92870\n",
      "[ 6.91180875  4.84387964 29.33368105]\n",
      "#------------------------------------------------------\n",
      "#  Best parameters (mean):\n",
      "[ 6.84946376  5.91714064 27.22542606]\n",
      "#------------------------------------------------------\n",
      "(6.875583315306531, 1.5966625464630448, 1.6700758388986392)\n",
      "(5.5740944178804215, 1.8204279344542948, 1.2773960379687654)\n",
      "(27.557234793237114, 3.596771330076912, 3.648549245883096)\n",
      "#------------------------------------------------------\n",
      "# Running final sampling step...\n"
     ]
    },
    {
     "name": "stderr",
     "output_type": "stream",
     "text": [
      "100%|██████████| 500/500 [02:43<00:00,  3.06it/s]\n"
     ]
    },
    {
     "name": "stdout",
     "output_type": "stream",
     "text": [
      "#------------------------------------------------------\n",
      "#  Mean acceptance fraction 0.3254999999999999\n",
      "#------------------------------------------------------\n",
      "#  Best ln(Probability):    -9.92948\n",
      "[ 6.93102286  4.81979927 29.37501012]\n",
      "#------------------------------------------------------\n",
      "#  Best parameters (mean):\n",
      "[ 6.94023594  5.76412476 27.52300703]\n",
      "#------------------------------------------------------\n",
      "(6.895346790436615, 1.5921050586253775, 1.6709416609224794)\n",
      "(5.540240222112885, 1.7654452935381961, 1.2279055649897845)\n",
      "(27.503390368344053, 3.5680199138081683, 3.4715815355281414)\n",
      "#------------------------------------------------------\n"
     ]
    }
   ],
   "source": [
    "with closing(Pool(processes=n_jobs)) as pool:\n",
    "    bin_5_exs, burnin = emcee_fit_one_sersic(\n",
    "        rad_kpc, all_profs['bin_5_prof_exs'], all_profs['bin_5_err_exs'], \n",
    "        pool=pool, n_walkers=n_walkers, n_burnin=n_burnin, n_samples=n_samples)\n",
    "    \n",
    "prof_samples_5_exs = [\n",
    "    Sersic(rad_kpc, pos[0], pos[1], pos[2]) for \n",
    "    pos in bin_5_exs['chains'][:, -20:, :].reshape([-1, 3])]"
   ]
  },
  {
   "cell_type": "code",
   "execution_count": 144,
   "metadata": {},
   "outputs": [],
   "source": [
    "colors = plt.cm.plasma(np.linspace(0,1,10))"
   ]
  },
  {
   "cell_type": "code",
   "execution_count": 185,
   "metadata": {},
   "outputs": [
    {
     "data": {
      "image/png": "[encoded data removed]",
      "text/plain": [
       "<Figure size 396x396 with 4 Axes>"
      ]
     },
     "metadata": {
      "needs_background": "light"
     },
     "output_type": "display_data"
    }
   ],
   "source": [
    "bin1_ins_n_re = bin_5_exs['samples'][:, [0,2]]\n",
    "ORG = plt.get_cmap('PuBu')\n",
    "params_label = [r'$n_{\\rm Ser}$', r'$R_{\\rm e}$']\n",
    "\n",
    "# To get the correct ranges for the plot, you need to combine all the samples you want to\n",
    "# plot\n",
    "all_samples = np.vstack([bin1_ins_n_re])\n",
    "\n",
    "# Get the min and max ranges for Sersic index and Re\n",
    "min_ranges = np.nanmin(all_samples, axis=0)\n",
    "max_ranges = np.nanmax(all_samples, axis=0)\n",
    "\n",
    "# X-Y ranges of the corner plot\n",
    "corner_ranges = [(min_ranges[0] * 0.9, max_ranges[0] * 1.2), \n",
    "                 (min_ranges[1] * 0.9, max_ranges[1] * 1.2)]\n",
    "\n",
    "fig_bin1 = corner.corner(\n",
    "        bin1_ins_n_re,\n",
    "        bins=40, color=ORG(0.7),\n",
    "        range=corner_ranges,\n",
    "        smooth=2, labels=params_label,\n",
    "        label_kwargs={'fontsize': 22},\n",
    "        quantiles=[0.16, 0.5, 0.84],\n",
    "        levels=[0.16, 0.50, 0.84],\n",
    "        plot_contours=True,\n",
    "        fill_contours=True,\n",
    "        show_titles=True,\n",
    "        title_kwargs={\"fontsize\": 21},\n",
    "        hist_kwargs={\"histtype\": 'stepfilled', \"alpha\": 0.4,\n",
    "                     \"edgecolor\": \"none\", \"density\": False},\n",
    "        use_math_text=True,\n",
    "        **{'title_fmt': '.2f', 'ranges': corner_ranges, \n",
    "           'plot_datapoints': False}\n",
    "        )\n",
    "for ax in fig_bin1.get_axes():\n",
    "    ax.tick_params(axis='both', labelsize=16)\n",
    "    text(1.3, 0.60,r'\\rm ex situ',\n",
    "         horizontalalignment='center',\n",
    "         verticalalignment='center',\n",
    "         transform = ax.transAxes)\n",
    "    break\n",
    "\n"
   ]
  },
  {
   "cell_type": "code",
   "execution_count": 178,
   "metadata": {},
   "outputs": [
    {
     "data": {
      "image/png": "[encoded data removed]",
      "text/plain": [
       "<Figure size 396x396 with 4 Axes>"
      ]
     },
     "metadata": {
      "needs_background": "light"
     },
     "output_type": "display_data"
    }
   ],
   "source": [
    "bin1_ins_n_re = bin_5_ins['samples'][:, [0,2]]\n",
    "ORG = plt.get_cmap('OrRd')\n",
    "params_label = [r'$n_{\\rm Ser}$', r'$R_{\\rm e}$']\n",
    "\n",
    "# To get the correct ranges for the plot, you need to combine all the samples you want to\n",
    "# plot\n",
    "all_samples = np.vstack([bin1_ins_n_re])\n",
    "\n",
    "# Get the min and max ranges for Sersic index and Re\n",
    "min_ranges = np.nanmin(all_samples, axis=0)\n",
    "max_ranges = np.nanmax(all_samples, axis=0)\n",
    "\n",
    "# X-Y ranges of the corner plot\n",
    "corner_ranges = [(min_ranges[0] * 0.9, max_ranges[0] * 1.2), \n",
    "                 (min_ranges[1] * 0.9, max_ranges[1] * 1.2)]\n",
    "\n",
    "fig_bin1 = corner.corner(\n",
    "        bin1_ins_n_re,\n",
    "        bins=40, color=ORG(0.7),\n",
    "        range=corner_ranges,\n",
    "        smooth=2, labels=params_label,\n",
    "        label_kwargs={'fontsize': 22},\n",
    "        quantiles=[0.16, 0.5, 0.84],\n",
    "        levels=[0.16, 0.50, 0.84],\n",
    "        plot_contours=True,\n",
    "        fill_contours=True,\n",
    "        show_titles=True,\n",
    "        title_kwargs={\"fontsize\": 21},\n",
    "        hist_kwargs={\"histtype\": 'stepfilled', \"alpha\": 0.4,\n",
    "                     \"edgecolor\": \"none\", \"density\": False},\n",
    "        use_math_text=True,\n",
    "        **{'title_fmt': '.2f', 'ranges': corner_ranges, \n",
    "           'plot_datapoints': False}\n",
    "        )\n",
    "for ax in fig_bin1.get_axes():\n",
    "    ax.tick_params(axis='both', labelsize=16)\n",
    "    text(1.3, 0.60,r'\\rm in situ',\n",
    "         horizontalalignment='center',\n",
    "         verticalalignment='center',\n",
    "         transform = ax.transAxes)\n",
    "    break\n",
    "\n",
    "\n",
    "\n",
    "\n"
   ]
  },
  {
   "cell_type": "code",
   "execution_count": 157,
   "metadata": {},
   "outputs": [
    {
     "data": {
      "image/png": "[encoded data removed]",
      "text/plain": [
       "<Figure size 396x396 with 4 Axes>"
      ]
     },
     "metadata": {
      "needs_background": "light"
     },
     "output_type": "display_data"
    }
   ],
   "source": [
    "# Only plot the Sersic index and Re\n",
    "bin1_ins_n_re = bin_1_ins['samples'][:, [0,2]]\n",
    "bin2_ins_n_re = bin_2_ins['samples'][:, [0,2]]\n",
    "bin3_ins_n_re = bin_3_ins['samples'][:, [0,2]]\n",
    "bin4_ins_n_re = bin_4_ins['samples'][:, [0,2]]\n",
    "bin5_ins_n_re = bin_5_ins['samples'][:, [0,2]]\n",
    "params_label = [r'$ \\rm n_{\\rm Ser}$', r'$ \\rm R_{\\rm e}$']\n",
    "\n",
    "all_samples = np.vstack([bin1_ins_n_re, bin2_ins_n_re,bin3_ins_n_re,bin4_ins_n_re,bin5_ins_n_re])\n",
    "\n",
    "# Get the min and max ranges for Sersic index and Re\n",
    "min_ranges = np.nanmin(all_samples, axis=0)\n",
    "max_ranges = np.nanmax(all_samples, axis=0)\n",
    "\n",
    "# X-Y ranges of the corner plot\n",
    "corner_ranges = [(min_ranges[0] * 0.9, max_ranges[0] * 1.2), \n",
    "                 (min_ranges[1] * 0.9, max_ranges[1] * 1.2)]\n",
    "\n",
    "\n",
    "\n",
    "# Also need to adjust the weight\n",
    "ns_hist_1, _ = np.histogram(bin1_ins_n_re[:, 0], bins=40) \n",
    "ns_hist_2, _ = np.histogram(bin2_ins_n_re[:, 0], bins=40) \n",
    "ns_hist_3, _ = np.histogram(bin3_ins_n_re[:, 0], bins=40) \n",
    "ns_hist_4, _ = np.histogram(bin4_ins_n_re[:, 0], bins=40) \n",
    "ns_hist_5, _ = np.histogram(bin5_ins_n_re[:, 0], bins=40) \n",
    "re_hist_1, _ = np.histogram(bin1_ins_n_re[:, 1], bins=40) \n",
    "re_hist_2, _ = np.histogram(bin2_ins_n_re[:, 1], bins=40)\n",
    "re_hist_3, _ = np.histogram(bin3_ins_n_re[:, 1], bins=40)\n",
    "re_hist_4, _ = np.histogram(bin4_ins_n_re[:, 1], bins=40)\n",
    "re_hist_5, _ = np.histogram(bin5_ins_n_re[:, 1], bins=40)\n",
    "\n",
    "hist_weight = np.sum([np.max(re_hist_1),np.max(re_hist_2),np.max(re_hist_3),np.max(re_hist_4),np.max(re_hist_5)])\n",
    "all_samples_ns = np.vstack([ns_hist_1,ns_hist_2,ns_hist_3,ns_hist_4,ns_hist_5])\n",
    "all_samples_re = np.vstack([re_hist_1,re_hist_2,re_hist_3,re_hist_4,re_hist_5])\n",
    "\n",
    "#setting the hist_weights\n",
    "max_n = np.max(all_samples_ns)\n",
    "max_re = np.max(all_samples_re)\n",
    "\n",
    "\n",
    "# Colors for in-situ and ex-situ\n",
    "ORG = plt.get_cmap('OrRd')\n",
    "\n",
    "\n",
    "\n",
    "fig_bin1 = corner.corner(\n",
    "        bin1_ins_n_re,\n",
    "        bins=40, color=colors[0],\n",
    "        range=corner_ranges,\n",
    "        smooth=2, labels=params_label,\n",
    "        label_kwargs={'fontsize': 21},\n",
    "        #quantiles=[0.16, 0.5, 0.84],\n",
    "        levels=[0.16, 0.50, 0.84],\n",
    "        plot_contours=True,\n",
    "        fill_contours=True,\n",
    "        show_titles=True,\n",
    "        title_fmt=None,\n",
    "        verbose = False,\n",
    "        title_kwargs={\"fontsize\": 21},\n",
    "        hist_kwargs={\"histtype\": 'step', \"alpha\": 1.0,\n",
    "                     \"edgecolor\": colors[0],\"linewidth\": 2, \"density\": False},\n",
    "        weights=np.ones(len(bin1_ins_n_re)) * 1.0,\n",
    "        use_math_text=True,\n",
    "        **{ 'ranges': corner_ranges, \n",
    "           'plot_datapoints': False}\n",
    "        )\n",
    "\n",
    "_ = corner.corner(\n",
    "        bin2_ins_n_re ,\n",
    "        fig=fig_bin1,\n",
    "        range=corner_ranges,\n",
    "        bins=40, color= colors[2],\n",
    "        smooth=2, labels=params_label,\n",
    "        label_kwargs={'fontsize': 21},\n",
    "        #quantiles=[0.16, 0.5, 0.84],\n",
    "        levels=[0.16, 0.50, 0.84],\n",
    "        plot_contours=True,\n",
    "        fill_contours=True,\n",
    "        show_titles=False,\n",
    "        hist_kwargs={\"histtype\": 'step', \"alpha\": 1.0,\n",
    "                     \"edgecolor\": colors[2],\"linewidth\": 2, \"density\": False},\n",
    "        weights=np.ones(len(bin1_ins_n_re)) * 1.01,\n",
    "        use_math_text=True,\n",
    "        **{ 'ranges': corner_ranges, \n",
    "           'plot_datapoints': False}\n",
    "        )\n",
    "\n",
    "_ = corner.corner(\n",
    "        bin3_ins_n_re ,\n",
    "        fig=fig_bin1,\n",
    "        range=corner_ranges,\n",
    "        bins=40, color= colors[4],\n",
    "        smooth=2, labels=params_label,\n",
    "        label_kwargs={'fontsize': 21},\n",
    "        #quantiles=[0.16, 0.5, 0.84],\n",
    "        levels=[0.16, 0.50, 0.84],\n",
    "        plot_contours=True,\n",
    "        fill_contours=True,\n",
    "        show_titles=False,\n",
    "        hist_kwargs={\"histtype\": 'step', \"alpha\": 1.0,\n",
    "                     \"edgecolor\": colors[4],\"linewidth\": 2, \"density\": False},\n",
    "        weights=np.ones(len(bin1_ins_n_re)) * 2.2,\n",
    "        use_math_text=True,\n",
    "        **{ 'ranges': corner_ranges, \n",
    "           'plot_datapoints': False}\n",
    "        )\n",
    "\n",
    "_ = corner.corner(\n",
    "        bin4_ins_n_re ,\n",
    "        fig=fig_bin1,\n",
    "        range=corner_ranges,\n",
    "        bins=40, color= colors[6],\n",
    "        smooth=2, labels=params_label,\n",
    "        label_kwargs={'fontsize': 21},\n",
    "        #quantiles=[0.16, 0.5, 0.84],\n",
    "        levels=[0.16, 0.50, 0.84],\n",
    "        plot_contours=True,\n",
    "        fill_contours=True,\n",
    "        show_titles=False,\n",
    "        hist_kwargs={\"histtype\": 'step', \"alpha\": 1.0,\n",
    "                     \"edgecolor\": colors[6],\"linewidth\": 2, \"density\": False},\n",
    "        weights=np.ones(len(bin1_ins_n_re))* 1.27 ,\n",
    "        use_math_text=True,\n",
    "        **{ 'ranges': corner_ranges, \n",
    "           'plot_datapoints': False}\n",
    "        )\n",
    "\n",
    "_ = corner.corner(\n",
    "        bin5_ins_n_re ,\n",
    "        fig=fig_bin1,\n",
    "        range=corner_ranges,\n",
    "        bins=40, color= colors[8],\n",
    "        smooth=2, labels=params_label,\n",
    "        label_kwargs={'fontsize': 21},\n",
    "        #quantiles=[0.16, 0.5, 0.84],\n",
    "        levels=[0.16, 0.50, 0.84],\n",
    "        plot_contours=True,\n",
    "        fill_contours=True,\n",
    "        show_titles=False,\n",
    "        hist_kwargs={\"histtype\": 'step', \"alpha\": 1.0, \n",
    "                     \"edgecolor\": colors[8], \"linewidth\": 2, \"density\": False},\n",
    "        weights=np.ones(len(bin1_ins_n_re)) *5.5 ,\n",
    "        use_math_text=True,\n",
    "        **{ 'ranges': corner_ranges, \n",
    "           'plot_datapoints': False}\n",
    "        )\n",
    "\n",
    "for ax in fig_bin1.get_axes():\n",
    "    ax.tick_params(axis='both', labelsize=16)\n",
    "\n",
    "\n",
    "for ax in fig_bin1.get_axes():\n",
    "    ax.tick_params(axis='both', labelsize=16)\n",
    "    text(1.3, 0.60,r'\\rm in situ',\n",
    "         horizontalalignment='center',\n",
    "         verticalalignment='center',\n",
    "         transform = ax.transAxes)\n",
    "    break\n"
   ]
  },
  {
   "cell_type": "code",
   "execution_count": 167,
   "metadata": {},
   "outputs": [
    {
     "data": {
      "image/png": "[encoded data removed]",
      "text/plain": [
       "<Figure size 396x396 with 4 Axes>"
      ]
     },
     "metadata": {
      "needs_background": "light"
     },
     "output_type": "display_data"
    }
   ],
   "source": [
    "# Only plot the Sersic index and Re\n",
    "bin1_exs_n_re = bin_1_exs['samples'][:, [0,2]]\n",
    "bin2_exs_n_re = bin_2_exs['samples'][:, [0,2]]\n",
    "bin3_exs_n_re = bin_3_exs['samples'][:, [0,2]]\n",
    "bin4_exs_n_re = bin_4_exs['samples'][:, [0,2]]\n",
    "bin5_exs_n_re = bin_5_exs['samples'][:, [0,2]]\n",
    "params_label = [r'$ \\rm n_{\\rm Ser}$', r'$ \\rm R_{\\rm e}$']\n",
    "\n",
    "all_samples = np.vstack([bin1_exs_n_re, bin2_exs_n_re,bin3_exs_n_re,bin4_exs_n_re,bin5_exs_n_re])\n",
    "\n",
    "# Get the min and max ranges for Sersic index and Re\n",
    "min_ranges = np.nanmin(all_samples, axis=0)\n",
    "max_ranges = np.nanmax(all_samples, axis=0)\n",
    "\n",
    "# X-Y ranges of the corner plot\n",
    "corner_ranges = [(min_ranges[0] * 0.9, max_ranges[0] * 1.2), \n",
    "                 (min_ranges[1] * 0.9, max_ranges[1] * 1.2)]\n",
    "\n",
    "# Also need to adjust the weight\n",
    "ns_hist_1, _ = np.histogram(bin1_exs_n_re[:, 0], bins=40) \n",
    "ns_hist_2, _ = np.histogram(bin2_exs_n_re[:, 0], bins=40) \n",
    "ns_hist_3, _ = np.histogram(bin3_exs_n_re[:, 0], bins=40) \n",
    "ns_hist_4, _ = np.histogram(bin4_exs_n_re[:, 0], bins=40) \n",
    "ns_hist_5, _ = np.histogram(bin5_exs_n_re[:, 0], bins=40) \n",
    "re_hist_1, _ = np.histogram(bin1_exs_n_re[:, 1], bins=40) \n",
    "re_hist_2, _ = np.histogram(bin2_exs_n_re[:, 1], bins=40)\n",
    "re_hist_3, _ = np.histogram(bin3_exs_n_re[:, 1], bins=40)\n",
    "re_hist_4, _ = np.histogram(bin4_exs_n_re[:, 1], bins=40)\n",
    "re_hist_5, _ = np.histogram(bin5_exs_n_re[:, 1], bins=40)\n",
    "\n",
    "#setting the hist_weights\n",
    "all_samples_ns = np.vstack([ns_hist_1,ns_hist_2,ns_hist_3,ns_hist_4,ns_hist_5])\n",
    "all_samples_re = np.vstack([re_hist_1,re_hist_2,re_hist_3,re_hist_4,re_hist_5])\n",
    "max_n = np.max(all_samples_ns)\n",
    "max_re = np.max(all_samples_re)\n",
    "\n",
    "hist_weight = np.sum([np.max(re_hist_1),np.max(re_hist_2),np.max(re_hist_3),np.max(re_hist_4),np.max(re_hist_5)])\n",
    "\n",
    "\n",
    "# Colors for in-situ and ex-situ\n",
    "ORG = plt.get_cmap('OrRd')\n",
    "\n",
    "\n",
    "\n",
    "fig_bin1 = corner.corner(\n",
    "        bin1_exs_n_re,\n",
    "        bins=40, color=colors[0],\n",
    "        range=corner_ranges,\n",
    "        smooth=2, labels=params_label,\n",
    "        label_kwargs={'fontsize': 21},\n",
    "        #quantiles=[0.16, 0.5, 0.84],\n",
    "        levels=[0.16, 0.50, 0.84],\n",
    "        plot_contours=True,\n",
    "        fill_contours=True,\n",
    "        show_titles=True,\n",
    "        title_fmt=None,\n",
    "        verbose = False,\n",
    "        title_kwargs={\"fontsize\": 21},\n",
    "        hist_kwargs={\"histtype\": 'step', \"alpha\": 1.0,\n",
    "                     \"edgecolor\": colors[0],\"linewidth\": 2, \"density\": False},\n",
    "        weights=np.ones(len(bin1_exs_n_re)) * 1.0,\n",
    "        use_math_text=True,\n",
    "        **{ 'ranges': corner_ranges, \n",
    "           'plot_datapoints': False}\n",
    "        )\n",
    "\n",
    "_ = corner.corner(\n",
    "        bin2_exs_n_re ,\n",
    "        fig=fig_bin1,\n",
    "        range=corner_ranges,\n",
    "        bins=40, color= colors[2],\n",
    "        smooth=2, labels=params_label,\n",
    "        label_kwargs={'fontsize': 21},\n",
    "        #quantiles=[0.16, 0.5, 0.84],\n",
    "        levels=[0.16, 0.50, 0.84],\n",
    "        plot_contours=True,\n",
    "        fill_contours=True,\n",
    "        show_titles=False,\n",
    "        hist_kwargs={\"histtype\": 'step', \"alpha\": 1.0,\n",
    "                     \"edgecolor\": colors[2],\"linewidth\": 2, \"density\": False},\n",
    "        weights=np.ones(len(bin1_exs_n_re)) * 1.01,\n",
    "        use_math_text=True,\n",
    "        **{ 'ranges': corner_ranges, \n",
    "           'plot_datapoints': False}\n",
    "        )\n",
    "\n",
    "_ = corner.corner(\n",
    "        bin3_exs_n_re ,\n",
    "        fig=fig_bin1,\n",
    "        range=corner_ranges,\n",
    "        bins=40, color= colors[4],\n",
    "        smooth=2, labels=params_label,\n",
    "        label_kwargs={'fontsize': 21},\n",
    "        #quantiles=[0.16, 0.5, 0.84],\n",
    "        levels=[0.16, 0.50, 0.84],\n",
    "        plot_contours=True,\n",
    "        fill_contours=True,\n",
    "        show_titles=False,\n",
    "        hist_kwargs={\"histtype\": 'step', \"alpha\": 1.0,\n",
    "                     \"edgecolor\": colors[4],\"linewidth\": 2, \"density\": False},\n",
    "        weights=np.ones(len(bin1_exs_n_re)) * 1.5,\n",
    "        use_math_text=True,\n",
    "        **{ 'ranges': corner_ranges, \n",
    "           'plot_datapoints': False}\n",
    "        )\n",
    "\n",
    "_ = corner.corner(\n",
    "        bin4_exs_n_re ,\n",
    "        fig=fig_bin1,\n",
    "        range=corner_ranges,\n",
    "        bins=40, color= colors[6],\n",
    "        smooth=2, labels=params_label,\n",
    "        label_kwargs={'fontsize': 21},\n",
    "        #quantiles=[0.16, 0.5, 0.84],\n",
    "        levels=[0.16, 0.50, 0.84],\n",
    "        plot_contours=True,\n",
    "        fill_contours=True,\n",
    "        show_titles=False,\n",
    "        hist_kwargs={\"histtype\": 'step', \"alpha\": 1.0,\n",
    "                     \"edgecolor\": colors[6],\"linewidth\": 2, \"density\": False},\n",
    "        weights=np.ones(len(bin1_exs_n_re))* 1.5 ,\n",
    "        use_math_text=True,\n",
    "        **{ 'ranges': corner_ranges, \n",
    "           'plot_datapoints': False}\n",
    "        )\n",
    "\n",
    "_ = corner.corner(\n",
    "        bin5_exs_n_re ,\n",
    "        fig=fig_bin1,\n",
    "        range=corner_ranges,\n",
    "        bins=40, color= colors[8],\n",
    "        smooth=2, labels=params_label,\n",
    "        label_kwargs={'fontsize': 21},\n",
    "        #quantiles=[0.16, 0.5, 0.84],\n",
    "        levels=[0.16, 0.50, 0.84],\n",
    "        plot_contours=True,\n",
    "        fill_contours=True,\n",
    "        show_titles=False,\n",
    "        hist_kwargs={\"histtype\": 'step', \"alpha\": 1.0, \n",
    "                     \"edgecolor\": colors[8], \"linewidth\": 2, \"density\": False},\n",
    "        weights=np.ones(len(bin1_exs_n_re)) *4.5 ,\n",
    "        use_math_text=True,\n",
    "        **{ 'ranges': corner_ranges, \n",
    "           'plot_datapoints': False}\n",
    "        )\n",
    "\n",
    "for ax in fig_bin1.get_axes():\n",
    "    ax.tick_params(axis='both', labelsize=16)\n",
    "\n",
    "\n",
    "for ax in fig_bin1.get_axes():\n",
    "    ax.tick_params(axis='both', labelsize=16)\n",
    "    text(1.3, 0.60,r'\\rm ex situ',\n",
    "         horizontalalignment='center',\n",
    "         verticalalignment='center',\n",
    "         transform = ax.transAxes)\n",
    "    break\n"
   ]
  },
  {
   "cell_type": "markdown",
   "metadata": {},
   "source": [
    "# Saving the files"
   ]
  },
  {
   "cell_type": "code",
   "execution_count": 192,
   "metadata": {},
   "outputs": [
    {
     "data": {
      "text/plain": [
       "dict_keys(['samples', 'lnprob', 'best', 'mean', 'chains', 'position', 'acceptance', 'best_curvefit', 'cov_curvefit', 'err_curvefit', 'prof_norm', 'err_norm'])"
      ]
     },
     "execution_count": 192,
     "metadata": {},
     "output_type": "execute_result"
    }
   ],
   "source": [
    "bin_1_exs.keys()"
   ]
  },
  {
   "cell_type": "code",
   "execution_count": 203,
   "metadata": {},
   "outputs": [],
   "source": [
    "#in_5_exs['chains']"
   ]
  },
  {
   "cell_type": "code",
   "execution_count": 204,
   "metadata": {},
   "outputs": [
    {
     "data": {
      "text/plain": [
       "array([1.16574502e+03, 6.66192897e+01, 2.18341616e+01, 1.05633910e+01,\n",
       "       5.98874134e+00, 3.88872747e+00, 2.65525872e+00, 1.93740660e+00,\n",
       "       1.46137519e+00, 1.11624184e+00, 8.83758163e-01, 7.12730581e-01,\n",
       "       6.16129256e-01, 5.12670914e-01, 4.40458400e-01, 3.73247864e-01,\n",
       "       3.22109527e-01, 2.75285894e-01, 2.35813709e-01, 2.01112751e-01,\n",
       "       1.76742431e-01, 1.57214244e-01, 1.40755879e-01, 1.26507889e-01,\n",
       "       1.13020446e-01, 1.03158101e-01, 9.39303862e-02, 8.65839974e-02,\n",
       "       7.94457850e-02, 7.31070619e-02, 6.64254305e-02, 6.12251756e-02,\n",
       "       5.61878962e-02, 5.20931165e-02, 4.86706395e-02, 4.51829271e-02,\n",
       "       4.19935696e-02, 3.88290115e-02, 3.57044782e-02, 3.39603415e-02,\n",
       "       3.21404236e-02, 3.02998193e-02, 2.83854628e-02, 2.64617971e-02,\n",
       "       2.44724943e-02, 2.29461217e-02, 2.15205380e-02, 2.00977573e-02,\n",
       "       1.87288289e-02, 1.75340202e-02, 1.63539498e-02, 1.51890793e-02,\n",
       "       1.42250545e-02, 1.34937931e-02, 1.27539891e-02, 1.20229682e-02,\n",
       "       1.13243904e-02, 1.07267497e-02, 1.01493825e-02, 9.51099573e-03,\n",
       "       8.85784118e-03, 8.45905487e-03, 8.08539897e-03, 7.71132323e-03,\n",
       "       7.34013979e-03, 6.98241216e-03, 6.72401622e-03, 6.46509117e-03,\n",
       "       6.20478180e-03, 5.93709767e-03, 5.66584063e-03, 5.44586776e-03,\n",
       "       5.23033626e-03, 5.01489998e-03, 4.79946369e-03, 4.58150013e-03,\n",
       "       4.37397061e-03, 4.19412012e-03, 4.00983668e-03, 3.82555324e-03,\n",
       "       3.64126980e-03, 3.45698636e-03, 3.29577423e-03, 3.18130260e-03,\n",
       "       3.06683096e-03, 2.95235933e-03, 2.83788770e-03, 2.71847827e-03,\n",
       "       2.58674178e-03, 2.51041461e-03, 2.44992261e-03, 2.37696062e-03,\n",
       "       2.29872206e-03, 2.21413629e-03, 2.11961896e-03, 2.01874471e-03,\n",
       "       1.94122121e-03, 1.87591190e-03, 1.81098722e-03, 1.74591700e-03])"
      ]
     },
     "execution_count": 204,
     "metadata": {},
     "output_type": "execute_result"
    }
   ],
   "source": [
    "bin_5_exs['prof_norm']"
   ]
  },
  {
   "cell_type": "markdown",
   "metadata": {},
   "source": [
    "# "
   ]
  }
 ],
 "metadata": {
  "kernelspec": {
   "display_name": "Python 3",
   "language": "python",
   "name": "python3"
  },
  "language_info": {
   "codemirror_mode": {
    "name": "ipython",
    "version": 3
   },
   "file_extension": ".py",
   "mimetype": "text/x-python",
   "name": "python",
   "nbconvert_exporter": "python",
   "pygments_lexer": "ipython3",
   "version": "3.7.1"
  }
 },
 "nbformat": 4,
 "nbformat_minor": 2
}
